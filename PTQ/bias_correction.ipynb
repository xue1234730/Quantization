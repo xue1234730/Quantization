{
 "cells": [
  {
   "cell_type": "code",
   "execution_count": 397,
   "metadata": {},
   "outputs": [],
   "source": [
    "import os\n",
    "import time\n",
    "from tqdm import tqdm\n",
    "import numpy as np\n",
    "%matplotlib inline\n",
    "import matplotlib.pyplot as plt\n",
    "import torch\n",
    "from torchvision import datasets, models, transforms\n",
    "import torch.nn as nn\n",
    "from torchvision.models.resnet import Bottleneck\n",
    "np.set_printoptions(suppress=True)\n",
    "from medpy.metric.histogram import jensen_shannon\n",
    "import pandas as pd\n",
    "pd.set_option('display.float_format', lambda x: '%.5f' % x)"
   ]
  },
  {
   "cell_type": "code",
   "execution_count": 34,
   "metadata": {},
   "outputs": [],
   "source": [
    "def absorb_bn(module, bn_module):\n",
    "    w = module.weight.data\n",
    "    if module.bias is None:\n",
    "        zeros = torch.Tensor(module.out_channels).zero_().type(w.type())\n",
    "        module.bias = nn.Parameter(zeros)\n",
    "    b = module.bias.data\n",
    "    invstd = bn_module.running_var.clone().add_(bn_module.eps).pow_(-0.5)\n",
    "    w.mul_(invstd.view(w.size(0), 1, 1, 1).expand_as(w))\n",
    "    b.add_(-bn_module.running_mean).mul_(invstd)\n",
    "\n",
    "    if bn_module.affine:\n",
    "        w.mul_(bn_module.weight.data.view(w.size(0), 1, 1, 1).expand_as(w))\n",
    "        b.mul_(bn_module.weight.data).add_(bn_module.bias.data)\n",
    "\n",
    "    bn_module.register_buffer('running_mean', torch.zeros(module.out_channels))\n",
    "    bn_module.register_buffer('running_var', torch.ones(module.out_channels))\n",
    "    bn_module.register_parameter('weight', None)\n",
    "    bn_module.register_parameter('bias', None)\n",
    "    bn_module.affine = False\n",
    "\n",
    "\n",
    "def is_bn(m):\n",
    "    return isinstance(m, nn.BatchNorm2d) or isinstance(m, nn.BatchNorm1d)\n",
    "\n",
    "\n",
    "def is_absorbing(m):\n",
    "    return (isinstance(m, nn.Conv2d) and m.groups == 1) or isinstance(m, nn.Linear)\n",
    "\n",
    "\n",
    "def search_absorbe_bn(model):\n",
    "    prev = None\n",
    "    for m in model.children():\n",
    "        if is_bn(m) and is_absorbing(prev):\n",
    "            m.absorbed = True\n",
    "            absorb_bn(prev, m)\n",
    "        search_absorbe_bn(m)\n",
    "        prev = m\n",
    "        \n",
    "def __gemmlowpQuantize1__(tensor, delta, offset, num_bits, bit_alloc=None, enforce_true_zero=True):\n",
    "    qmin = 0.\n",
    "    if bit_alloc is None:\n",
    "        qmax = 2.**num_bits - 1.\n",
    "    else:\n",
    "        qmax = 2.**bit_alloc - 1.\n",
    "    #import pdb; pdb.set_trace()\n",
    "    scale = (delta) / (qmax - qmin)\n",
    "\n",
    "    scale = torch.max(scale, torch.tensor([1e-8]).to(scale.device))\n",
    "\n",
    "    output = tensor.detach()\n",
    "    if enforce_true_zero:\n",
    "        initial_zero_point = qmin - offset / scale\n",
    "        # make zero exactly represented\n",
    "        zero_point = torch.round(initial_zero_point)\n",
    "        output = torch.div(output, scale.unsqueeze(-1))\n",
    "        output = torch.add(output, zero_point.unsqueeze(-1))\n",
    "    else:\n",
    "        output = torch.add(output, -offset.unsqueeze(-1))\n",
    "        output = torch.div(output, scale.unsqueeze(-1))\n",
    "\n",
    "    if bit_alloc is None:\n",
    "        output.clamp_(qmin, qmax).round_()  # quantize\n",
    "    else:\n",
    "        qmax = qmax.view(qmax.numel(), 1)\n",
    "        output = torch.where(output.gt(qmax), qmax, output)\n",
    "        output.clamp_(qmin).round_()\n",
    "\n",
    "    if enforce_true_zero:\n",
    "        output = torch.add(output, -zero_point.unsqueeze(-1))\n",
    "        output = torch.mul(output, scale.unsqueeze(-1))  # dequantize\n",
    "    else:\n",
    "        output = torch.mul(output, scale.unsqueeze(-1))\n",
    "        output = torch.add(output, offset.unsqueeze(-1))  # dequantize\n",
    "\n",
    "    return output.view(tensor.shape)\n",
    "\n",
    "def gemmlowpQuantizeWeightsPerChannel(tensor, num_bits, min_=None, max_=None):\n",
    "    # Assume weights with dimensions [OFM,IFM,K1,K2]\n",
    "    t = tensor.view(tensor.shape[0], -1)\n",
    "\n",
    "    # per output channel min, max\n",
    "    if min_ is None:\n",
    "        min_ = t.min(-1)[0]\n",
    "    if max_ is None:\n",
    "        max_ = t.max(-1)[0]\n",
    "\n",
    "    output = __gemmlowpQuantize1__(t, max_ - min_, min_, num_bits)\n",
    "\n",
    "    return output.view(tensor.shape)"
   ]
  },
  {
   "cell_type": "code",
   "execution_count": 298,
   "metadata": {},
   "outputs": [],
   "source": [
    "with torch.no_grad():\n",
    "    model = models.resnet101(pretrained=True)\n",
    "    search_absorbe_bn(model)\n",
    "    convs = [(n,m) for n, m in model.named_modules() if isinstance(m, nn.Conv2d)]"
   ]
  },
  {
   "cell_type": "code",
   "execution_count": 425,
   "metadata": {},
   "outputs": [],
   "source": [
    "def get_bias_per_channel_df(num_bits, convs):\n",
    "    df = pd.DataFrame(columns=['layer', 'min_bias', 'mean_bias', 'max_bias'])\n",
    "    for i in range(len(convs)):\n",
    "        w = convs[i][1].weight\n",
    "        w_q = gemmlowpQuantizeWeightsPerChannel(w, num_bits=num_bits)\n",
    "\n",
    "        bias = w.view(w.shape[0], -1).mean(-1)\n",
    "        bias_q = w_q.view(w_q.shape[0], -1).mean(-1)\n",
    "        bias_abs = (bias - bias_q).abs()\n",
    "        std = w.view(w.shape[0], -1).std(-1)\n",
    "        df.loc[i, 'layer'] = convs[i][0]\n",
    "        df.loc[i, 'min_bias'] = (bias_abs / std).min().item()\n",
    "        df.loc[i, 'mean_bias'] = (bias_abs / std).mean().item()\n",
    "        df.loc[i, 'max_bias'] = (bias_abs / std).max().item()\n",
    "    return df\n",
    "\n",
    "def get_bias_df(num_bits, convs):\n",
    "    df = pd.DataFrame(columns=['layer', 'min_bias', 'mean_bias', 'max_bias'])\n",
    "    for i in range(len(convs)):\n",
    "        w = convs[i][1].weight\n",
    "        w_q = gemmlowpQuantizeWeightsPerChannel(w, num_bits=num_bits)\n",
    "\n",
    "        bias = w.mean()\n",
    "        bias_q = w_q.mean()\n",
    "        bias_abs = (bias - bias_q).abs()\n",
    "        std = w.std()\n",
    "        df.loc[i, 'layer'] = convs[i][0]\n",
    "        df.loc[i, 'min_bias'] = (bias_abs / std).item()\n",
    "        df.loc[i, 'mean_bias'] = (bias_abs / std).item()\n",
    "        df.loc[i, 'max_bias'] = (bias_abs / std).item()\n",
    "    return df\n",
    "\n",
    "def mean_std_per_layer(convs):\n",
    "    res = {}\n",
    "    for i in tqdm(range(len(convs))):\n",
    "        df = pd.DataFrame()\n",
    "        w = convs[i][1].weight\n",
    "        w = w.view(w.shape[0], -1).detach().numpy()\n",
    "\n",
    "        df['mean'] = w.mean(-1)\n",
    "        df['std'] = w.std(-1)\n",
    "        df['range'] = w.max(-1) - w.min(-1)\n",
    "        df['s-r'] = df['std'] / df['range']\n",
    "        df['m-r'] = df['mean'].abs() / df['range']\n",
    "        df['bin'] = df['range'] / 16\n",
    "        res[convs[i][0]] = df\n",
    "\n",
    "    return res"
   ]
  },
  {
   "cell_type": "code",
   "execution_count": 454,
   "metadata": {},
   "outputs": [
    {
     "name": "stderr",
     "output_type": "stream",
     "text": [
      "100%|██████████| 104/104 [00:00<00:00, 194.67it/s]\n"
     ]
    }
   ],
   "source": [
    "ms = mean_std_per_layer(convs)"
   ]
  },
  {
   "cell_type": "code",
   "execution_count": 533,
   "metadata": {},
   "outputs": [],
   "source": [
    "m_r = []\n",
    "for l, m in convs:\n",
    "    m_r += list(16*ms[l]['m-r'])"
   ]
  },
  {
   "cell_type": "code",
   "execution_count": 546,
   "metadata": {},
   "outputs": [
    {
     "data": {
      "image/png": "[encoded data removed]",
      "text/plain": [
       "<matplotlib.figure.Figure at 0x7f804c9faac8>"
      ]
     },
     "metadata": {},
     "output_type": "display_data"
    }
   ],
   "source": [
    "plt.rcParams[\"figure.figsize\"] = [9,6]\n",
    "\n",
    "plt.axhline(0.5, color='r', lw=2.5, ls='--')\n",
    "plt.scatter(np.arange(len(m_r)), m_r)\n",
    "\n",
    "plt.xlabel('weight channels across all layers', size=20)\n",
    "plt.ylabel('normalized mean', size=20)\n",
    "\n",
    "plt.legend(['quantization bias', 'mean channel values'], loc='best', prop={'size': 22, 'weight': 'bold'})\n",
    "plt.tick_params(axis='both', which='major', labelsize=20)\n",
    "\n",
    "plt.title('Resnet101 (weights)', fontsize=20)\n",
    "\n",
    "plt.tight_layout()\n",
    "_=plt.yticks([])\n",
    "_=plt.xticks([])\n",
    "plt.savefig('resnet101_bias_err.png')"
   ]
  }
 ],
 "metadata": {
  "kernelspec": {
   "display_name": "venv3",
   "language": "python",
   "name": "venv3"
  },
  "language_info": {
   "codemirror_mode": {
    "name": "ipython",
    "version": 3
   },
   "file_extension": ".py",
   "mimetype": "text/x-python",
   "name": "python",
   "nbconvert_exporter": "python",
   "pygments_lexer": "ipython3",
   "version": "3.5.2"
  }
 },
 "nbformat": 4,
 "nbformat_minor": 2
}
